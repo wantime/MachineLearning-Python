{
 "cells": [
  {
   "cell_type": "code",
   "execution_count": 1,
   "metadata": {},
   "outputs": [],
   "source": [
    "import numpy as np\n",
    "from sklearn import datasets\n",
    "\n",
    "iris = datasets.load_iris()\n",
    "\n",
    "X = iris.data\n",
    "y = iris.target\n",
    "\n",
    "from sklearn.model_selection import train_test_split\n",
    "\n",
    "X_train, X_test, y_train, y_test = train_test_split(X, y, test_size=0.2, random_state=666)"
   ]
  },
  {
   "cell_type": "markdown",
   "metadata": {},
   "source": [
    "### scikit-learn中的standarScaler"
   ]
  },
  {
   "cell_type": "code",
   "execution_count": 10,
   "metadata": {},
   "outputs": [],
   "source": [
    "from sklearn.preprocessing import StandardScaler\n",
    "\n",
    "standScaler = StandardScaler()\n",
    "\n",
    "standScaler.fit(X_train)\n",
    "\n",
    "standScaler.mean_\n",
    "\n",
    "standScaler.scale_\n",
    "\n",
    "X_train = standScaler.transform(X_train)\n",
    "\n",
    "X_test_standard = standScaler.transform(X_test)\n",
    "\n",
    "from sklearn.neighbors import KNeighborsClassifier\n",
    "\n",
    "knn_clf = KNeighborsClassifier(n_neighbors=3)\n",
    "\n",
    "knn_clf.fit(X_train, y_train)\n",
    "\n",
    "knn_clf.score(X_test_standard, y_test)\n",
    "\n",
    "knn_clf.score(X_test, y_test)"
   ]
  },
  {
   "cell_type": "markdown",
   "metadata": {},
   "source": [
    "## 调用自己的standardScaler"
   ]
  },
  {
   "cell_type": "code",
   "execution_count": 44,
   "metadata": {},
   "outputs": [],
   "source": [
    "from ML.preprocessing import StandardScaler\n",
    "\n",
    "mystandarScaler = StandardScaler()\n",
    "\n",
    "mystandarScaler.fit(X_train)\n",
    "\n",
    "mystandarScaler.mean_\n",
    "\n",
    "mystandarScaler.scale_\n",
    "\n",
    "X_train = mystandarScaler.transform(X_train)\n",
    "\n",
    "X_test_standard = mystandarScaler.transform(X_test)\n",
    "\n",
    "knn_clf.fit(X_train, y_train)\n",
    "\n",
    "knn_clf.score(X_test_standard, y_test)"
   ]
  },
  {
   "cell_type": "markdown",
   "metadata": {},
   "source": [
    "## 调用sklearn中的MinMaxScaler"
   ]
  },
  {
   "cell_type": "code",
   "execution_count": 65,
   "metadata": {},
   "outputs": [
    {
     "name": "stdout",
     "output_type": "stream",
     "text": [
      "[-1.19444444 -0.83333333 -0.19642857 -0.04166667]\n",
      "[0.27777778 0.41666667 0.17857143 0.41666667]\n",
      "1.0\n",
      "0.3333333333333333\n"
     ]
    }
   ],
   "source": [
    "from sklearn.preprocessing import MinMaxScaler\n",
    "\n",
    "m = MinMaxScaler()\n",
    "\n",
    "m.fit(X_train)\n",
    "\n",
    "print(m.data_min_)\n",
    "\n",
    "print(m.data_max_)\n",
    "\n",
    "X_train_standard = m.transform(X_train)\n",
    "\n",
    "X_test_standard = m.transform(X_test)\n",
    "\n",
    "from sklearn.neighbors import KNeighborsClassifier\n",
    "\n",
    "knn_clf = KNeighborsClassifier(n_neighbors=3)\n",
    "\n",
    "knn_clf.fit(X_train_standard, y_train)\n",
    "\n",
    "print(knn_clf.score(X_test_standard, y_test))\n",
    "\n",
    "print(knn_clf.score(X_test, y_test))"
   ]
  },
  {
   "cell_type": "code",
   "execution_count": 2,
   "metadata": {},
   "outputs": [
    {
     "data": {
      "text/plain": [
       "<ML.preprocessing.MinMaxScaler at 0x178050bf7c8>"
      ]
     },
     "execution_count": 2,
     "metadata": {},
     "output_type": "execute_result"
    }
   ],
   "source": [
    "from ML.preprocessing import MinMaxScaler\n",
    "my = MinMaxScaler()\n",
    "my.fit(X_train)\n",
    "\n",
    "X_train_standard = my.transform(X_train)\n",
    "\n",
    "X_test_standard = my.transform(X_test)\n",
    "\n",
    "from sklearn.neighbors import KNeighborsClassifier\n",
    "\n",
    "knn_clf = KNeighborsClassifier(n_neighbors=3)\n",
    "\n",
    "knn_clf.fit(X_train_standard, y_train)\n",
    "\n",
    "print(knn_clf.score(X_test_standard, y_test))\n",
    "\n",
    "print(knn_clf.score(X_test, y_test))\n"
   ]
  }
 ],
 "metadata": {
  "kernelspec": {
   "display_name": "Python 3",
   "language": "python",
   "name": "python3"
  },
  "language_info": {
   "codemirror_mode": {
    "name": "ipython",
    "version": 3
   },
   "file_extension": ".py",
   "mimetype": "text/x-python",
   "name": "python",
   "nbconvert_exporter": "python",
   "pygments_lexer": "ipython3",
   "version": "3.7.6"
  }
 },
 "nbformat": 4,
 "nbformat_minor": 4
}
