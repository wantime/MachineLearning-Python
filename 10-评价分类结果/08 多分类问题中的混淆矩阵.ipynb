{
 "cells": [
  {
   "cell_type": "markdown",
   "metadata": {},
   "source": [
    "### 多分类问题中的混淆矩阵"
   ]
  },
  {
   "cell_type": "code",
   "execution_count": 1,
   "metadata": {},
   "outputs": [],
   "source": [
    "import numpy as np\n",
    "import matplotlib.pyplot as plt"
   ]
  },
  {
   "cell_type": "code",
   "execution_count": 2,
   "metadata": {},
   "outputs": [],
   "source": [
    "from sklearn import datasets\n",
    "\n",
    "digits = datasets.load_digits()\n",
    "X = digits.data\n",
    "y = digits.target"
   ]
  },
  {
   "cell_type": "code",
   "execution_count": 3,
   "metadata": {},
   "outputs": [],
   "source": [
    "from sklearn.model_selection import train_test_split\n",
    "\n",
    "X_train, X_test, y_train, y_test = train_test_split(X, y, test_size=0.8, random_state=666)"
   ]
  },
  {
   "cell_type": "code",
   "execution_count": 5,
   "metadata": {},
   "outputs": [
    {
     "data": {
      "text/plain": [
       "0.9381084840055632"
      ]
     },
     "execution_count": 5,
     "metadata": {},
     "output_type": "execute_result"
    }
   ],
   "source": [
    "from sklearn.linear_model import LogisticRegression\n",
    "\n",
    "log_reg = LogisticRegression(max_iter=1e6)\n",
    "log_reg.fit(X_train, y_train)\n",
    "log_reg.score(X_test, y_test)"
   ]
  },
  {
   "cell_type": "code",
   "execution_count": 6,
   "metadata": {},
   "outputs": [],
   "source": [
    "y_predict = log_reg.predict(X_test)"
   ]
  },
  {
   "cell_type": "code",
   "execution_count": 7,
   "metadata": {},
   "outputs": [
    {
     "data": {
      "text/plain": [
       "0.9381084840055632"
      ]
     },
     "execution_count": 7,
     "metadata": {},
     "output_type": "execute_result"
    }
   ],
   "source": [
    "from sklearn.metrics import precision_score\n",
    "\n",
    "precision_score(y_test, y_predict, average=\"micro\")"
   ]
  },
  {
   "cell_type": "code",
   "execution_count": 8,
   "metadata": {},
   "outputs": [
    {
     "data": {
      "text/plain": [
       "array([[148,   0,   1,   0,   0,   0,   0,   0,   0,   0],\n",
       "       [  0, 122,   2,   1,   0,   0,   1,   4,   1,  12],\n",
       "       [  0,   1, 134,   0,   0,   0,   0,   0,   1,   0],\n",
       "       [  0,   0,   2, 139,   0,   4,   0,   1,   2,   1],\n",
       "       [  1,   3,   0,   0, 141,   0,   1,   3,   0,   1],\n",
       "       [  1,   4,   1,   0,   0, 144,   1,   0,   0,   1],\n",
       "       [  1,   2,   0,   0,   0,   1, 132,   0,   0,   0],\n",
       "       [  0,   0,   0,   0,   0,   0,   0, 135,   0,   1],\n",
       "       [  0,   8,   3,   2,   4,   4,   0,   1, 116,   2],\n",
       "       [  0,   0,   0,   7,   0,   1,   0,   1,   0, 138]], dtype=int64)"
      ]
     },
     "execution_count": 8,
     "metadata": {},
     "output_type": "execute_result"
    }
   ],
   "source": [
    "from sklearn.metrics import confusion_matrix\n",
    "\n",
    "confusion_matrix(y_test, y_predict)"
   ]
  },
  {
   "cell_type": "code",
   "execution_count": 9,
   "metadata": {},
   "outputs": [
    {
     "data": {
      "image/png": "[encoded data removed]",
      "text/plain": [
       "<Figure size 480x480 with 1 Axes>"
      ]
     },
     "metadata": {},
     "output_type": "display_data"
    }
   ],
   "source": [
    "cfm = confusion_matrix(y_test, y_predict)\n",
    "plt.matshow(cfm)\n",
    "plt.show()"
   ]
  },
  {
   "cell_type": "markdown",
   "metadata": {},
   "source": [
    "## 误差矩阵"
   ]
  },
  {
   "cell_type": "code",
   "execution_count": 10,
   "metadata": {},
   "outputs": [
    {
     "data": {
      "text/plain": [
       "array([[0.        , 0.        , 0.00735294, 0.        , 0.        ,\n",
       "        0.        , 0.        , 0.        , 0.        , 0.        ],\n",
       "       [0.        , 0.        , 0.01470588, 0.00671141, 0.        ,\n",
       "        0.        , 0.00735294, 0.02941176, 0.00714286, 0.08163265],\n",
       "       [0.        , 0.00699301, 0.        , 0.        , 0.        ,\n",
       "        0.        , 0.        , 0.        , 0.00714286, 0.        ],\n",
       "       [0.        , 0.        , 0.01470588, 0.        , 0.        ,\n",
       "        0.02631579, 0.        , 0.00735294, 0.01428571, 0.00680272],\n",
       "       [0.00671141, 0.02097902, 0.        , 0.        , 0.        ,\n",
       "        0.        , 0.00735294, 0.02205882, 0.        , 0.00680272],\n",
       "       [0.00671141, 0.02797203, 0.00735294, 0.        , 0.        ,\n",
       "        0.        , 0.00735294, 0.        , 0.        , 0.00680272],\n",
       "       [0.00671141, 0.01398601, 0.        , 0.        , 0.        ,\n",
       "        0.00657895, 0.        , 0.        , 0.        , 0.        ],\n",
       "       [0.        , 0.        , 0.        , 0.        , 0.        ,\n",
       "        0.        , 0.        , 0.        , 0.        , 0.00680272],\n",
       "       [0.        , 0.05594406, 0.02205882, 0.01342282, 0.02666667,\n",
       "        0.02631579, 0.        , 0.00735294, 0.        , 0.01360544],\n",
       "       [0.        , 0.        , 0.        , 0.04697987, 0.        ,\n",
       "        0.00657895, 0.        , 0.00735294, 0.        , 0.        ]])"
      ]
     },
     "execution_count": 10,
     "metadata": {},
     "output_type": "execute_result"
    }
   ],
   "source": [
    "row_sums = np.sum(cfm, axis=1)\n",
    "err_matrix = cfm / row_sums\n",
    "#col_sums = np.sum(cfm, axis=0)\n",
    "np.fill_diagonal(err_matrix, 0)\n",
    "err_matrix"
   ]
  },
  {
   "cell_type": "code",
   "execution_count": 11,
   "metadata": {},
   "outputs": [
    {
     "data": {
      "image/png": "[encoded data removed]",
      "text/plain": [
       "<Figure size 480x480 with 1 Axes>"
      ]
     },
     "metadata": {},
     "output_type": "display_data"
    }
   ],
   "source": [
    "cfm = confusion_matrix(y_test, y_predict)\n",
    "plt.matshow(err_matrix)\n",
    "plt.show()"
   ]
  }
 ],
 "metadata": {
  "kernelspec": {
   "display_name": "Python 3 (ipykernel)",
   "language": "python",
   "name": "python3"
  },
  "language_info": {
   "codemirror_mode": {
    "name": "ipython",
    "version": 3
   },
   "file_extension": ".py",
   "mimetype": "text/x-python",
   "name": "python",
   "nbconvert_exporter": "python",
   "pygments_lexer": "ipython3",
   "version": "3.9.13"
  }
 },
 "nbformat": 4,
 "nbformat_minor": 4
}
